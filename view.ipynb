{
 "cells": [
  {
   "cell_type": "code",
   "execution_count": 1,
   "metadata": {},
   "outputs": [
    {
     "name": "stdout",
     "output_type": "stream",
     "text": [
      "772796874c5c\n",
      "ec0a4ba02a34\n",
      "23303b2d6414\n"
     ]
    }
   ],
   "source": [
    "%load_ext autoreload\n",
    "%autoreload 2\n",
    "from extremefill2D.tools import getSMTRecords, smt_ipy_table\n",
    "records = getSMTRecords(path='.', tags=['testrun'])\n",
    "for r in records:\n",
    "    print r.label"
   ]
  },
  {
   "cell_type": "code",
   "execution_count": 2,
   "metadata": {},
   "outputs": [
    {
     "data": {
      "text/html": [
       "<table border=\"1\" cellpadding=\"3\" cellspacing=\"0\"  style=\"border:1px solid black;border-collapse:collapse;\"><tr><td  style=\"background-color:LightGray;\"><b>Label</b></td><td  style=\"background-color:LightGray;\"><b>Timestamp</b></td><td  style=\"background-color:LightGray;\"><b>Parameters</b></td><td  style=\"background-color:LightGray;\"><b>Duration</b></td><td  style=\"background-color:LightGray;\"><b>Version</b></td><td  style=\"background-color:LightGray;\"><b>Tags</b></td></tr><tr><td  style=\"background-color:Ivory;\"><code>77279687</code></td><td  style=\"background-color:Ivory;\">2017-04-14 20:34</td><td  style=\"background-color:Ivory;\"><code>kPlus: 546.0, kMinus: 37900000.0, appliedPotential: -0.45, bulkSuppressor: 0.06, Nx: 200</code></td><td  style=\"background-color:Ivory;\">22.41s</td><td  style=\"background-color:Ivory;\"><code>96a45ec43721</code></td><td  style=\"background-color:Ivory;\">testrun</td></tr><tr><td  style=\"background-color:AliceBlue;\"><code>ec0a4ba0</code></td><td  style=\"background-color:AliceBlue;\">2017-04-14 20:33</td><td  style=\"background-color:AliceBlue;\"><code>kPlus: 546.0, kMinus: 37900000.0, appliedPotential: -0.45, bulkSuppressor: 0.06, Nx: 200</code></td><td  style=\"background-color:AliceBlue;\">22.76s</td><td  style=\"background-color:AliceBlue;\"><code>96a45ec43721</code></td><td  style=\"background-color:AliceBlue;\">testrun</td></tr><tr><td  style=\"background-color:Ivory;\"><code>23303b2d</code></td><td  style=\"background-color:Ivory;\">2017-04-14 20:32</td><td  style=\"background-color:Ivory;\"><code>kPlus: 100.0, kMinus: 24500000.0, appliedPotential: -0.25, bulkSuppressor: 0.02, Nx: 100</code></td><td  style=\"background-color:Ivory;\">1.61s</td><td  style=\"background-color:Ivory;\"><code>96a45ec43721</code></td><td  style=\"background-color:Ivory;\">testrun</td></tr></table>"
      ],
      "text/plain": [
       "<IPython.core.display.HTML object>"
      ]
     },
     "execution_count": 2,
     "metadata": {},
     "output_type": "execute_result"
    }
   ],
   "source": [
    "smt_ipy_table(records,\n",
    "              fields=['label', 'timestamp', 'parameters', 'duration', 'version', 'tags'],\n",
    "              parameters=['kPlus', 'kMinus', 'appliedPotential', 'bulkSuppressor', 'Nx'])"
   ]
  },
  {
   "cell_type": "code",
   "execution_count": 3,
   "metadata": {},
   "outputs": [
    {
     "data": {
      "image/png": "[encoded data removed]",
      "text/plain": [
       "<matplotlib.figure.Figure at 0x7fdaedbfc490>"
      ]
     },
     "metadata": {},
     "output_type": "display_data"
    }
   ],
   "source": [
    "%matplotlib inline \n",
    "from extremefill2D.contourViewer import ContourViewer\n",
    "import matplotlib.pyplot as plt\n",
    "import numpy as np\n",
    "\n",
    "record = records[0]\n",
    "fig = plt.figure(figsize=(2.5, 8), dpi=200)\n",
    "ax = plt.subplot(1, 1, 1)\n",
    "viewer = ContourViewer(record, ax=ax)\n",
    "all_spines = ['top', 'bottom', 'right', 'left']\n",
    "for spine in all_spines:\n",
    "    ax.spines[spine].set_visible(False)\n",
    "#plt.text(0.32, 0.01, '$\\\\texttt{{{0}}}$'.format(record.label[:8]), fontsize=12, transform=ax.transAxes)\n",
    "viewer.plot(times = np.arange(10) * 200. / 9. , mirror=True, cutoff=True, cutoffvalue=0., show=False)"
   ]
  },
  {
   "cell_type": "code",
   "execution_count": null,
   "metadata": {
    "collapsed": true
   },
   "outputs": [],
   "source": []
  }
 ],
 "metadata": {
  "kernelspec": {
   "display_name": "Python 2",
   "language": "python",
   "name": "python2"
  },
  "language_info": {
   "codemirror_mode": {
    "name": "ipython",
    "version": 2
   },
   "file_extension": ".py",
   "mimetype": "text/x-python",
   "name": "python",
   "nbconvert_exporter": "python",
   "pygments_lexer": "ipython2",
   "version": "2.7.13"
  }
 },
 "nbformat": 4,
 "nbformat_minor": 1
}
